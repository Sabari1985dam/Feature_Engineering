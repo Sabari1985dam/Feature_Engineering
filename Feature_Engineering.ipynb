{
  "nbformat": 4,
  "nbformat_minor": 0,
  "metadata": {
    "colab": {
      "provenance": []
    },
    "kernelspec": {
      "name": "python3",
      "display_name": "Python 3"
    },
    "language_info": {
      "name": "python"
    }
  },
  "cells": [
    {
      "cell_type": "markdown",
      "source": [
        "1.What is a parameter?"
      ],
      "metadata": {
        "id": "NXUgoY33UJw_"
      }
    },
    {
      "cell_type": "markdown",
      "source": [
        "Ans:A parameter is a numerical or symbolic value that defines characteristics within a system, model, or function. Parameters help describe and control behavior in various contexts:\n",
        "\n",
        "* Mathematics & Statistics\n",
        "* Programming & Functions\n",
        "* Machine Learning & AI\n",
        "* Science & Engineering"
      ],
      "metadata": {
        "id": "iJoW7yXbmjh3"
      }
    },
    {
      "cell_type": "markdown",
      "source": [
        "2.What is correlation? What does negative correlation mean?"
      ],
      "metadata": {
        "id": "oGnzyLxMUyzG"
      }
    },
    {
      "cell_type": "markdown",
      "source": [
        "Ans:Correlation is a statistical measure that describes the strength and direction of a relationship between two variables. It helps determine whether changes in one variable are associated with changes in another.\n",
        "\n",
        "Negative correlation means that as one variable increases, the other decreases. In other words, there is an inverse relationship between the two variables.\n",
        "\n"
      ],
      "metadata": {
        "id": "7Rlo6tHnnKJO"
      }
    },
    {
      "cell_type": "markdown",
      "source": [
        "3.Define Machine Learning. What are the main components in Machine Learning?"
      ],
      "metadata": {
        "id": "eISBG_9zW3Rg"
      }
    },
    {
      "cell_type": "markdown",
      "source": [
        "Ans: Machine Learning (ML) is a branch of Artificial Intelligence (AI) that focuses on building systems that can learn from data and improve automatically without being explicitly programmed.\n",
        "\n",
        "In simple words: Machine learns pattern from the data and replicate the same in future.\n",
        "\n",
        "\n",
        "Main Components of Machine Learning:\n",
        "\n",
        "* Data\n",
        "\n",
        "The core ingredient. Machines learn from examples (data) rather than fixed rules.\n",
        "\n",
        "* Model\n",
        "\n",
        "The mathematical structure or algorithm used to make predictions or decisions (e.g., Linear Regression, Decision Trees, Neural Networks).\n",
        "\n",
        "* Parameters\n",
        "\n",
        "Internal variables the model learns during training (for example: weights in a neural network).\n",
        "\n",
        "* Training\n",
        "\n",
        "The process where the model \"learns\" from the data by adjusting its parameters to minimize error.\n",
        "\n",
        "* Loss Function (or Cost Function)\n",
        "\n",
        "Measures how well (or badly) the model is performing — the lower the loss, the better.\n",
        "\n",
        "* Optimization Algorithm\n",
        "\n",
        "The method used to update the model’s parameters to improve predictions, usually Gradient Descent.\n",
        "\n",
        "* Evaluation\n",
        "\n",
        "Testing the model on unseen data to see how well it generalizes (accuracy, precision, recall, etc.)."
      ],
      "metadata": {
        "id": "v3lUtXGcV_Q3"
      }
    },
    {
      "cell_type": "markdown",
      "source": [
        "4. How does loss value help in determining whether the model is good or not?"
      ],
      "metadata": {
        "id": "WaLhtuETZxod"
      }
    },
    {
      "cell_type": "markdown",
      "source": [
        "Ans:- The loss value is a crucial metric in determining the performance of a machine learning model. It represents the difference between the model’s predictions and the actual target values. A lower loss value indicates that the model's predictions are closer to the true values, whereas a higher loss value means the model is making larger errors.\n",
        "- Loss quantifies how far off the predictions are from the actual values.\n",
        "- The model adjusts its parameters using loss to improve performance.\n",
        "- Very low training loss but high validation loss (model memorizes data but generalizes poorly).\n",
        "- Loss remains high on both training and validation sets (model fails to learn patterns).\n",
        "- Loss provides a more granular view of errors than accuracy."
      ],
      "metadata": {
        "id": "tQLRqYGyo2Uu"
      }
    },
    {
      "cell_type": "markdown",
      "source": [
        "5.What are continuous and categorical variables?"
      ],
      "metadata": {
        "id": "kJlLOq7pdPL7"
      }
    },
    {
      "cell_type": "markdown",
      "source": [
        "- Continuous Variables: Variables that can take an infinite range of values within a given interval. It Represent measurable quantities. It Can be fractional or decimal (not limited to whole numbers). It Can be analyzed using statistical measures like mean, standard deviation, and regression.\n",
        "- Categorical Variables: Variables that represent distinct groups or categories, often with no inherent numerical meaning. Can be nominal (unordered categories) or ordinal (ordered categories). Typically analyzed using frequency counts, chi-square tests, and classification models.\n"
      ],
      "metadata": {
        "id": "reS7WWEnqFkH"
      }
    },
    {
      "cell_type": "markdown",
      "source": [
        "6.How do we handle categorical variables in Machine Learning? What are the common techniques?"
      ],
      "metadata": {
        "id": "NKQ4SZRnqRbL"
      }
    },
    {
      "cell_type": "markdown",
      "source": [
        "Ans: Handling categorical variables in Machine Learning is crucial because models require numerical input. There are several techniques used to convert categorical data into numerical representations while preserving relationships.\n",
        "- Common Techniques for Handling Categorical Variables:\n",
        "  - Label Encoding.\n",
        "  - One-Hot Encoding (OHE).\n",
        "  - Target Guided Ordinal Encoding"
      ],
      "metadata": {
        "id": "X482TYpGrU3j"
      }
    },
    {
      "cell_type": "markdown",
      "source": [
        "7.How do we handle categorical variables in Machine Learning? What are the common techniques?"
      ],
      "metadata": {
        "id": "kKagGbUEenyQ"
      }
    },
    {
      "cell_type": "markdown",
      "source": [
        "Ans: - In Machine Learning, data is split into training and testing datasets to evaluate model performance. This ensures the model learns properly and generalizes well to unseen data.\n",
        "- 1. Training Dataset:\n",
        "  - Used to teach the model by adjusting its parameters.\n",
        "  - The model learns patterns, relationships, and structures from this data.\n",
        "  - Example: A spam classifier is trained using thousands of labeled emails (spam vs. non-spam).\n",
        "- 2. Testing Dataset:\n",
        "  - Never used during training—it evaluates how well the model generalizes.\n",
        "  - Helps identify overfitting (when the model memorizes training data but fails on new data).\n",
        "  - Example: After training a spam classifier, it is tested on new, unseen emails."
      ],
      "metadata": {
        "id": "DR6NEb0hqD3f"
      }
    },
    {
      "cell_type": "markdown",
      "source": [
        "8.What is sklearn.preprocessing?"
      ],
      "metadata": {
        "id": "gyGouOGuMRTT"
      }
    },
    {
      "cell_type": "markdown",
      "source": [
        "Ans: sklearn.preprocessing is a module in scikit-learn (often imported as sklearn), which is a super popular Python library for machine learning. This module specifically deals with data preprocessing — which is the step where you clean, transform, or scale your data so that it’s in the best shape for a machine learning model to understand and learn from."
      ],
      "metadata": {
        "id": "e8n9rGg5MU--"
      }
    },
    {
      "cell_type": "markdown",
      "source": [
        "9.What is a Test set?"
      ],
      "metadata": {
        "id": "qwdmyTS8NQu5"
      }
    },
    {
      "cell_type": "markdown",
      "source": [
        "Ans: A test set is a portion of your data that you set aside to evaluate how well your trained machine learning model performs on unseen data.\n",
        "\n"
      ],
      "metadata": {
        "id": "V5G4XeiUNmON"
      }
    },
    {
      "cell_type": "markdown",
      "source": [
        "10.How do we split data for model fitting (training and testing) in Python?How do you approach a Machine Learning problem?"
      ],
      "metadata": {
        "id": "izE254oVNpjv"
      }
    },
    {
      "cell_type": "markdown",
      "source": [
        "Ans:In Python, especially when using scikit-learn, splitting your data into a training set and a test set is super easy, thanks to:\n",
        "\n",
        "\n",
        "from sklearn.model_selection import train_test_split\n",
        "\n",
        "# Sample data\n",
        "X = [[1], [2], [3], [4], [5], [6], [7], [8]]  # Features\n",
        "y = [10, 20, 30, 40, 50, 60, 70, 80]         # Labels\n",
        "\n",
        "# Split the data: 75% for training, 25% for testing\n",
        "X_train, X_test, y_train, y_test = train_test_split(\n",
        "    X, y,\n",
        "    test_size=0.25,      # 25% of the data goes to the test set\n",
        "    random_state=42      # ensures reproducibility\n",
        ")\n",
        "\n",
        "print(\"Training features:\", X_train)\n",
        "print(\"Test features:\", X_test)\n",
        "\n",
        "When we approach a machine learning problem, we usually follow a structured process, whether we're working on a school assignment, a real-world project, or a Kaggle competition.\n",
        "\n",
        "To Understand the problem.\n",
        "\n",
        "* Is it a classification problem (e.g., cat vs. dog)?\n",
        "\n",
        "* Is it a regression problem (predicting a number)?\n",
        "\n",
        "* Or something else like clustering, recommendation, anomaly detection?\n",
        "\n"
      ],
      "metadata": {
        "id": "gV4EQZ7aOEaG"
      }
    },
    {
      "cell_type": "markdown",
      "source": [
        "11.Why do we have to perform EDA before fitting a model to the data?\n",
        "\n"
      ],
      "metadata": {
        "id": "2rp_3Q19TPSd"
      }
    },
    {
      "cell_type": "markdown",
      "source": [
        "Ans: Exploratory Data Analysis (EDA) is the step where you deeply explore, visualize, and understand your dataset before you start training any machine learning model.\n",
        "Because raw data is almost never \"model-ready.\"\n",
        "EDA helps us\n",
        "1. Understand Your Data\n",
        "2. Detect Errors and Missing Data\n",
        "3. Understand Relationships\n",
        "4. Choose the Right Preprocessing Steps\n",
        "EDA helps you understand, clean, and prepare your data so that your model has the best chance to learn meaningful patterns, not noise or errors.\n",
        "\n"
      ],
      "metadata": {
        "id": "mG4KMldIS2zA"
      }
    },
    {
      "cell_type": "markdown",
      "source": [
        "12.What is correlation?"
      ],
      "metadata": {
        "id": "yX3Qsm_2Qrud"
      }
    },
    {
      "cell_type": "markdown",
      "source": [
        "Ans:Correlation measures the strength and direction of a relationship between two variables.\n",
        "\n",
        "In simple terms:\n",
        "\n",
        "When one variable changes, does another change in a predictable way?\n",
        "\n",
        " Types of Correlation:\n",
        "\n",
        "\n",
        "Correlation \t        Meaning\t                            Example\n",
        "\n",
        "\n",
        "Positive\t  Both variables increase together\t   Hours studied  ↑ → Score ↑\n",
        "\n",
        "\n",
        "Negative\t  One increases, the other decreases\t Exercise  ↑ → Body fat % ↓\n",
        "\n",
        "\n",
        "Zero\t      No relationship\tShoe                 size of shoes vs. GPA.\n"
      ],
      "metadata": {
        "id": "IQ0k4XfChhmp"
      }
    },
    {
      "cell_type": "markdown",
      "source": [
        "13.What does negative correlation mean?"
      ],
      "metadata": {
        "id": "zc5yOt15i0wo"
      }
    },
    {
      "cell_type": "markdown",
      "source": [
        "Ans: When two variables have a negative correlation, it means:\n",
        "\n",
        "As one variable increases, the other decreases.\n",
        "And as one decreases, the other increases.\n",
        "\n",
        "So they move in opposite directions.\n",
        "\n",
        "\n",
        "Variable A\t          Variable B\t                 Relationship\n",
        "\n",
        "Speed of a car\tTime to reach destination   \tNegative Correlation (faster = less time)\n",
        "Exercise time \tBody fat percentage     \tNegative Correlation (more exercise = less fat)\n",
        "Temperature \tHeating bill            \tNegative Correlation (warmer weather = lower bill)\n"
      ],
      "metadata": {
        "id": "vey2HdbEikix"
      }
    },
    {
      "cell_type": "markdown",
      "source": [
        "14.How can you find correlation between variables in Python?"
      ],
      "metadata": {
        "id": "6jtsiH0Bkyjr"
      }
    },
    {
      "cell_type": "code",
      "source": [
        "#Using Pandas\n",
        "import pandas as pd\n",
        "data = {'A': [1, 2, 3, 4, 5], 'B': [2, 4, 6, 8, 10], 'C': [10, 9, 7, 6, 5]}\n",
        "df = pd.DataFrame(data)\n",
        "df.corr()"
      ],
      "metadata": {
        "colab": {
          "base_uri": "https://localhost:8080/",
          "height": 143
        },
        "id": "ZJEDV46sub_1",
        "outputId": "a250614e-0b5c-4827-c928-6ddadaaa907b"
      },
      "execution_count": null,
      "outputs": [
        {
          "output_type": "execute_result",
          "data": {
            "text/plain": [
              "          A         B         C\n",
              "A  1.000000  1.000000 -0.991241\n",
              "B  1.000000  1.000000 -0.991241\n",
              "C -0.991241 -0.991241  1.000000"
            ],
            "text/html": [
              "\n",
              "  <div id=\"df-8f822b8b-5ef9-4b8c-8666-1a355e8a33b7\" class=\"colab-df-container\">\n",
              "    <div>\n",
              "<style scoped>\n",
              "    .dataframe tbody tr th:only-of-type {\n",
              "        vertical-align: middle;\n",
              "    }\n",
              "\n",
              "    .dataframe tbody tr th {\n",
              "        vertical-align: top;\n",
              "    }\n",
              "\n",
              "    .dataframe thead th {\n",
              "        text-align: right;\n",
              "    }\n",
              "</style>\n",
              "<table border=\"1\" class=\"dataframe\">\n",
              "  <thead>\n",
              "    <tr style=\"text-align: right;\">\n",
              "      <th></th>\n",
              "      <th>A</th>\n",
              "      <th>B</th>\n",
              "      <th>C</th>\n",
              "    </tr>\n",
              "  </thead>\n",
              "  <tbody>\n",
              "    <tr>\n",
              "      <th>A</th>\n",
              "      <td>1.000000</td>\n",
              "      <td>1.000000</td>\n",
              "      <td>-0.991241</td>\n",
              "    </tr>\n",
              "    <tr>\n",
              "      <th>B</th>\n",
              "      <td>1.000000</td>\n",
              "      <td>1.000000</td>\n",
              "      <td>-0.991241</td>\n",
              "    </tr>\n",
              "    <tr>\n",
              "      <th>C</th>\n",
              "      <td>-0.991241</td>\n",
              "      <td>-0.991241</td>\n",
              "      <td>1.000000</td>\n",
              "    </tr>\n",
              "  </tbody>\n",
              "</table>\n",
              "</div>\n",
              "    <div class=\"colab-df-buttons\">\n",
              "\n",
              "  <div class=\"colab-df-container\">\n",
              "    <button class=\"colab-df-convert\" onclick=\"convertToInteractive('df-8f822b8b-5ef9-4b8c-8666-1a355e8a33b7')\"\n",
              "            title=\"Convert this dataframe to an interactive table.\"\n",
              "            style=\"display:none;\">\n",
              "\n",
              "  <svg xmlns=\"http://www.w3.org/2000/svg\" height=\"24px\" viewBox=\"0 -960 960 960\">\n",
              "    <path d=\"M120-120v-720h720v720H120Zm60-500h600v-160H180v160Zm220 220h160v-160H400v160Zm0 220h160v-160H400v160ZM180-400h160v-160H180v160Zm440 0h160v-160H620v160ZM180-180h160v-160H180v160Zm440 0h160v-160H620v160Z\"/>\n",
              "  </svg>\n",
              "    </button>\n",
              "\n",
              "  <style>\n",
              "    .colab-df-container {\n",
              "      display:flex;\n",
              "      gap: 12px;\n",
              "    }\n",
              "\n",
              "    .colab-df-convert {\n",
              "      background-color: #E8F0FE;\n",
              "      border: none;\n",
              "      border-radius: 50%;\n",
              "      cursor: pointer;\n",
              "      display: none;\n",
              "      fill: #1967D2;\n",
              "      height: 32px;\n",
              "      padding: 0 0 0 0;\n",
              "      width: 32px;\n",
              "    }\n",
              "\n",
              "    .colab-df-convert:hover {\n",
              "      background-color: #E2EBFA;\n",
              "      box-shadow: 0px 1px 2px rgba(60, 64, 67, 0.3), 0px 1px 3px 1px rgba(60, 64, 67, 0.15);\n",
              "      fill: #174EA6;\n",
              "    }\n",
              "\n",
              "    .colab-df-buttons div {\n",
              "      margin-bottom: 4px;\n",
              "    }\n",
              "\n",
              "    [theme=dark] .colab-df-convert {\n",
              "      background-color: #3B4455;\n",
              "      fill: #D2E3FC;\n",
              "    }\n",
              "\n",
              "    [theme=dark] .colab-df-convert:hover {\n",
              "      background-color: #434B5C;\n",
              "      box-shadow: 0px 1px 3px 1px rgba(0, 0, 0, 0.15);\n",
              "      filter: drop-shadow(0px 1px 2px rgba(0, 0, 0, 0.3));\n",
              "      fill: #FFFFFF;\n",
              "    }\n",
              "  </style>\n",
              "\n",
              "    <script>\n",
              "      const buttonEl =\n",
              "        document.querySelector('#df-8f822b8b-5ef9-4b8c-8666-1a355e8a33b7 button.colab-df-convert');\n",
              "      buttonEl.style.display =\n",
              "        google.colab.kernel.accessAllowed ? 'block' : 'none';\n",
              "\n",
              "      async function convertToInteractive(key) {\n",
              "        const element = document.querySelector('#df-8f822b8b-5ef9-4b8c-8666-1a355e8a33b7');\n",
              "        const dataTable =\n",
              "          await google.colab.kernel.invokeFunction('convertToInteractive',\n",
              "                                                    [key], {});\n",
              "        if (!dataTable) return;\n",
              "\n",
              "        const docLinkHtml = 'Like what you see? Visit the ' +\n",
              "          '<a target=\"_blank\" href=https://colab.research.google.com/notebooks/data_table.ipynb>data table notebook</a>'\n",
              "          + ' to learn more about interactive tables.';\n",
              "        element.innerHTML = '';\n",
              "        dataTable['output_type'] = 'display_data';\n",
              "        await google.colab.output.renderOutput(dataTable, element);\n",
              "        const docLink = document.createElement('div');\n",
              "        docLink.innerHTML = docLinkHtml;\n",
              "        element.appendChild(docLink);\n",
              "      }\n",
              "    </script>\n",
              "  </div>\n",
              "\n",
              "\n",
              "<div id=\"df-6af18aaa-d942-4f6b-934b-138787f5a5a5\">\n",
              "  <button class=\"colab-df-quickchart\" onclick=\"quickchart('df-6af18aaa-d942-4f6b-934b-138787f5a5a5')\"\n",
              "            title=\"Suggest charts\"\n",
              "            style=\"display:none;\">\n",
              "\n",
              "<svg xmlns=\"http://www.w3.org/2000/svg\" height=\"24px\"viewBox=\"0 0 24 24\"\n",
              "     width=\"24px\">\n",
              "    <g>\n",
              "        <path d=\"M19 3H5c-1.1 0-2 .9-2 2v14c0 1.1.9 2 2 2h14c1.1 0 2-.9 2-2V5c0-1.1-.9-2-2-2zM9 17H7v-7h2v7zm4 0h-2V7h2v10zm4 0h-2v-4h2v4z\"/>\n",
              "    </g>\n",
              "</svg>\n",
              "  </button>\n",
              "\n",
              "<style>\n",
              "  .colab-df-quickchart {\n",
              "      --bg-color: #E8F0FE;\n",
              "      --fill-color: #1967D2;\n",
              "      --hover-bg-color: #E2EBFA;\n",
              "      --hover-fill-color: #174EA6;\n",
              "      --disabled-fill-color: #AAA;\n",
              "      --disabled-bg-color: #DDD;\n",
              "  }\n",
              "\n",
              "  [theme=dark] .colab-df-quickchart {\n",
              "      --bg-color: #3B4455;\n",
              "      --fill-color: #D2E3FC;\n",
              "      --hover-bg-color: #434B5C;\n",
              "      --hover-fill-color: #FFFFFF;\n",
              "      --disabled-bg-color: #3B4455;\n",
              "      --disabled-fill-color: #666;\n",
              "  }\n",
              "\n",
              "  .colab-df-quickchart {\n",
              "    background-color: var(--bg-color);\n",
              "    border: none;\n",
              "    border-radius: 50%;\n",
              "    cursor: pointer;\n",
              "    display: none;\n",
              "    fill: var(--fill-color);\n",
              "    height: 32px;\n",
              "    padding: 0;\n",
              "    width: 32px;\n",
              "  }\n",
              "\n",
              "  .colab-df-quickchart:hover {\n",
              "    background-color: var(--hover-bg-color);\n",
              "    box-shadow: 0 1px 2px rgba(60, 64, 67, 0.3), 0 1px 3px 1px rgba(60, 64, 67, 0.15);\n",
              "    fill: var(--button-hover-fill-color);\n",
              "  }\n",
              "\n",
              "  .colab-df-quickchart-complete:disabled,\n",
              "  .colab-df-quickchart-complete:disabled:hover {\n",
              "    background-color: var(--disabled-bg-color);\n",
              "    fill: var(--disabled-fill-color);\n",
              "    box-shadow: none;\n",
              "  }\n",
              "\n",
              "  .colab-df-spinner {\n",
              "    border: 2px solid var(--fill-color);\n",
              "    border-color: transparent;\n",
              "    border-bottom-color: var(--fill-color);\n",
              "    animation:\n",
              "      spin 1s steps(1) infinite;\n",
              "  }\n",
              "\n",
              "  @keyframes spin {\n",
              "    0% {\n",
              "      border-color: transparent;\n",
              "      border-bottom-color: var(--fill-color);\n",
              "      border-left-color: var(--fill-color);\n",
              "    }\n",
              "    20% {\n",
              "      border-color: transparent;\n",
              "      border-left-color: var(--fill-color);\n",
              "      border-top-color: var(--fill-color);\n",
              "    }\n",
              "    30% {\n",
              "      border-color: transparent;\n",
              "      border-left-color: var(--fill-color);\n",
              "      border-top-color: var(--fill-color);\n",
              "      border-right-color: var(--fill-color);\n",
              "    }\n",
              "    40% {\n",
              "      border-color: transparent;\n",
              "      border-right-color: var(--fill-color);\n",
              "      border-top-color: var(--fill-color);\n",
              "    }\n",
              "    60% {\n",
              "      border-color: transparent;\n",
              "      border-right-color: var(--fill-color);\n",
              "    }\n",
              "    80% {\n",
              "      border-color: transparent;\n",
              "      border-right-color: var(--fill-color);\n",
              "      border-bottom-color: var(--fill-color);\n",
              "    }\n",
              "    90% {\n",
              "      border-color: transparent;\n",
              "      border-bottom-color: var(--fill-color);\n",
              "    }\n",
              "  }\n",
              "</style>\n",
              "\n",
              "  <script>\n",
              "    async function quickchart(key) {\n",
              "      const quickchartButtonEl =\n",
              "        document.querySelector('#' + key + ' button');\n",
              "      quickchartButtonEl.disabled = true;  // To prevent multiple clicks.\n",
              "      quickchartButtonEl.classList.add('colab-df-spinner');\n",
              "      try {\n",
              "        const charts = await google.colab.kernel.invokeFunction(\n",
              "            'suggestCharts', [key], {});\n",
              "      } catch (error) {\n",
              "        console.error('Error during call to suggestCharts:', error);\n",
              "      }\n",
              "      quickchartButtonEl.classList.remove('colab-df-spinner');\n",
              "      quickchartButtonEl.classList.add('colab-df-quickchart-complete');\n",
              "    }\n",
              "    (() => {\n",
              "      let quickchartButtonEl =\n",
              "        document.querySelector('#df-6af18aaa-d942-4f6b-934b-138787f5a5a5 button');\n",
              "      quickchartButtonEl.style.display =\n",
              "        google.colab.kernel.accessAllowed ? 'block' : 'none';\n",
              "    })();\n",
              "  </script>\n",
              "</div>\n",
              "\n",
              "    </div>\n",
              "  </div>\n"
            ],
            "application/vnd.google.colaboratory.intrinsic+json": {
              "type": "dataframe",
              "summary": "{\n  \"name\": \"df\",\n  \"rows\": 3,\n  \"fields\": [\n    {\n      \"column\": \"A\",\n      \"properties\": {\n        \"dtype\": \"number\",\n        \"std\": 1.1496433583012813,\n        \"min\": -0.9912407071619305,\n        \"max\": 1.0,\n        \"num_unique_values\": 2,\n        \"samples\": [\n          -0.9912407071619305,\n          1.0\n        ],\n        \"semantic_type\": \"\",\n        \"description\": \"\"\n      }\n    },\n    {\n      \"column\": \"B\",\n      \"properties\": {\n        \"dtype\": \"number\",\n        \"std\": 1.1496433583012813,\n        \"min\": -0.9912407071619305,\n        \"max\": 1.0,\n        \"num_unique_values\": 2,\n        \"samples\": [\n          -0.9912407071619305,\n          1.0\n        ],\n        \"semantic_type\": \"\",\n        \"description\": \"\"\n      }\n    },\n    {\n      \"column\": \"C\",\n      \"properties\": {\n        \"dtype\": \"number\",\n        \"std\": 1.1496433583012813,\n        \"min\": -0.9912407071619305,\n        \"max\": 1.0,\n        \"num_unique_values\": 2,\n        \"samples\": [\n          1.0,\n          -0.9912407071619305\n        ],\n        \"semantic_type\": \"\",\n        \"description\": \"\"\n      }\n    }\n  ]\n}"
            }
          },
          "metadata": {},
          "execution_count": 1
        }
      ]
    },
    {
      "cell_type": "markdown",
      "source": [
        "15. **What is causation? Explain difference between correlation and causation with an example.**"
      ],
      "metadata": {
        "id": "EJw5yvIWuh81"
      }
    },
    {
      "cell_type": "markdown",
      "source": [
        "Ans:- Causation refers to a direct cause-and-effect relationship between two variables—meaning one variable directly affects another.\n",
        "Correlation, on the other hand, simply indicates a relationship between two variables without proving cause.\n",
        "- For example:\n",
        "  - Observation: More ice cream sales occur in summer, and drowning incidents also increase.\n",
        "  - Correlation: Ice cream sales and drowning incidents are positively correlated (both increase together).\n",
        "  - Causation: Ice cream doesn’t cause drowning! The actual cause is warm weather—more people swim in summer, increasing the risk of drowning.\n",
        "-  Correlation does NOT imply causation—additional research is needed to establish direct cause-and-effect."
      ],
      "metadata": {
        "id": "SXzrGN39utHN"
      }
    },
    {
      "cell_type": "markdown",
      "source": [
        "16. **What is an Optimizer? What are different types of optimizers? Explain each with an example.**\n"
      ],
      "metadata": {
        "id": "5HWSX7tcvDJs"
      }
    },
    {
      "cell_type": "markdown",
      "source": [
        "Ans:- An optimizer in machine learning is an algorithm that adjusts model parameters (weights and biases) to minimize the loss function and improve accuracy. It plays a crucial role in training models efficiently and ensuring they generalize well to unseen data.\n",
        "- Types:\n",
        "  - Gradient Descent:\n",
        "    - Basic optimization algorithm used to minimize the loss function.\n",
        "    - Updates weights in the direction of negative gradient to reduce error.\n",
        "    - Suitable for simple models but can be slow for large datasets."
      ],
      "metadata": {
        "id": "MUMnmSipveOV"
      }
    },
    {
      "cell_type": "code",
      "source": [
        "import tensorflow as tf\n",
        "\n",
        "optimizer = tf.keras.optimizers.SGD(learning_rate=0.01)"
      ],
      "metadata": {
        "id": "A7qi5muiwDpR"
      },
      "execution_count": null,
      "outputs": []
    },
    {
      "cell_type": "markdown",
      "source": [
        "Momentum:\n",
        "Enhances SGD by adding a momentum term to smooth updates.\n",
        "Helps escape local minima faster.\n",
        "Helps in faster convergence compared to vanilla SGD."
      ],
      "metadata": {
        "id": "6H50lh5GwFd7"
      }
    },
    {
      "cell_type": "code",
      "source": [
        "optimizer = tf.keras.optimizers.SGD(learning_rate=0.01, momentum=0.9)"
      ],
      "metadata": {
        "id": "DBydi5qmwqIq"
      },
      "execution_count": null,
      "outputs": []
    },
    {
      "cell_type": "markdown",
      "source": [
        "Adam (Adaptive Moment Estimation)\n",
        "Combines momentum and adaptive learning rates, making it one of the most popular optimizers.\n",
        "Works well for non-stationary objectives, like deep neural networks.\n",
        "Adjusts learning rates dynamically for each parameter."
      ],
      "metadata": {
        "id": "_L3DwSv1w2ie"
      }
    },
    {
      "cell_type": "code",
      "source": [
        "optimizer = tf.keras.optimizers.Adam(learning_rate=0.001)"
      ],
      "metadata": {
        "id": "e0lOBpiDxC5b"
      },
      "execution_count": null,
      "outputs": []
    },
    {
      "cell_type": "markdown",
      "source": [
        "17. **What is sklearn.linear_model ?**"
      ],
      "metadata": {
        "id": "aVmjtu2JxEU0"
      }
    },
    {
      "cell_type": "markdown",
      "source": [
        "Ans:- sklearn.linear_model is a module in Scikit-Learn that provides various linear models for regression and classification tasks. It includes algorithms that assume a linear relationship between input features and the target variable.\n",
        "- Some Models:\n",
        "  - Linear Regression (for continuous target variables).\n",
        "  -  Logistic Regression (for classification tasks).\n",
        "  - Ridge & Lasso Regression (for regularization).\n",
        "  - Perceptron (for binary classification)."
      ],
      "metadata": {
        "id": "jHjOtSvdxM-C"
      }
    },
    {
      "cell_type": "markdown",
      "source": [
        "18. **What does model.fit() do? What arguments must be given?**"
      ],
      "metadata": {
        "id": "kcfdGeufxaVs"
      }
    },
    {
      "cell_type": "markdown",
      "source": [
        "- In Scikit-Learn and TensorFlow/Keras, .fit() is the method used to train a machine learning model on a given dataset. It adjusts the model parameters (weights) using the provided data and learns patterns to make predictions.\n",
        "- Arguments Required for model.fit():\n",
        "  -  In Scikit-Learn (for Regression & Classification)"
      ],
      "metadata": {
        "id": "u4PWC1Unxk63"
      }
    },
    {
      "cell_type": "code",
      "source": [
        "# model.fit(X_train, y_train)"
      ],
      "metadata": {
        "id": "I-wDHp0axwK-"
      },
      "execution_count": null,
      "outputs": []
    },
    {
      "cell_type": "markdown",
      "source": [
        "- In TensorFlow/Keras (for Deep Learning)"
      ],
      "metadata": {
        "id": "IAH9CI4GyGSs"
      }
    },
    {
      "cell_type": "code",
      "source": [
        "# model.fit(X_train, y_train, epochs=10, batch_size=32)"
      ],
      "metadata": {
        "id": "95C4BZfjyPX8"
      },
      "execution_count": null,
      "outputs": []
    },
    {
      "cell_type": "markdown",
      "source": [
        "19. **What does model.predict() do? What arguments must be given?**"
      ],
      "metadata": {
        "id": "LHip_0FpyWav"
      }
    },
    {
      "cell_type": "markdown",
      "source": [
        "- model.predict() is used to generate predictions from a trained machine learning model. After training a model using .fit(), we can use .predict() to make forecasts based on unseen input data.\n",
        "- Arguments Required for model.predict():\n",
        "  -  In Scikit-Learn (For Traditional ML Models)"
      ],
      "metadata": {
        "id": "1ZKHqMYEQDMW"
      }
    },
    {
      "cell_type": "code",
      "source": [
        "#predictions = model.predict(X_test)"
      ],
      "metadata": {
        "id": "lFRpukX3QSwB"
      },
      "execution_count": null,
      "outputs": []
    },
    {
      "cell_type": "markdown",
      "source": [
        "- In TensorFlow/Keras (For Deep Learning Models):"
      ],
      "metadata": {
        "id": "UNv-wGw6QcRb"
      }
    },
    {
      "cell_type": "code",
      "source": [
        "#predictions = model.predict(X_test, batch_size=32)"
      ],
      "metadata": {
        "id": "uJ1ebMSdQidS"
      },
      "execution_count": null,
      "outputs": []
    },
    {
      "cell_type": "markdown",
      "source": [
        "20. **What are continuous and categorical variables?**"
      ],
      "metadata": {
        "id": "xQXLekJaQjl5"
      }
    },
    {
      "cell_type": "markdown",
      "source": [
        "- Continuous Variables (Numerical):\n",
        "  - Variables that can take an infinite range of values within a given interval.\n",
        "  - Represent measurable quantities (e.g., age, income, temperature).\n",
        "  - Can be fractional or decimal (not limited to whole numbers).\n",
        "  - Used in regression analysis to predict numerical outcomes.\n",
        "- Categorical Variables (Qualitative):\n",
        "  - Variables that represent distinct groups or categories, often with no inherent numerical meaning.\n",
        "  -  Can be nominal (unordered categories) or ordinal (ordered categories).\n",
        "  - Used in classification models to group items into predefined categories.\n",
        "  - Typically analyzed using frequency counts, chi-square tests, and encoding techniques in ML.\n",
        "\n"
      ],
      "metadata": {
        "id": "z_NZ7olhQsVk"
      }
    },
    {
      "cell_type": "markdown",
      "source": [
        "21. **What is feature scaling? How does it help in Machine Learning?**"
      ],
      "metadata": {
        "id": "vl6qEH5cQ4Zh"
      }
    },
    {
      "cell_type": "markdown",
      "source": [
        "- Feature scaling is the process of normalizing or standardizing numerical data so that all features have a similar range of values.\n",
        "- It helps prevent algorithms from being biased toward features with larger magnitudes, ensuring models perform optimally."
      ],
      "metadata": {
        "id": "3qgmu3AaRBHX"
      }
    },
    {
      "cell_type": "markdown",
      "source": [
        "22. **How do we perform scaling in Python?**"
      ],
      "metadata": {
        "id": "OrGwKyK4RO6w"
      }
    },
    {
      "cell_type": "markdown",
      "source": [
        "- We Perform Scaling in Python by following methods:\n",
        "  - Min-Max:\n",
        "    - Neural Networks, Distance-based models (KNN, K-Means)\n",
        "\n",
        "  - Standardization:\n",
        "    - Linear models (Regression, SVM).\n",
        "\n",
        "  - Robust Scaling:\n",
        "    - Data with Outliers.\n",
        "\n",
        "  - Power Transformation:\n",
        "    - Skewed data requiring normality."
      ],
      "metadata": {
        "id": "-Ib7rm4vRVQP"
      }
    },
    {
      "cell_type": "markdown",
      "source": [
        "23. **What is sklearn.preprocessing?**"
      ],
      "metadata": {
        "id": "otX0hUC3Rc-R"
      }
    },
    {
      "cell_type": "markdown",
      "source": [
        "- sklearn.preprocessing is a module in Scikit-Learn that provides various techniques to transform and scale data for better machine learning performance. It ensures datasets are properly formatted and prepared before feeding them into models."
      ],
      "metadata": {
        "id": "e3wVUyjeRvGQ"
      }
    },
    {
      "cell_type": "markdown",
      "source": [
        "24. **How do we split data for model fitting (training and testing) in Python?**"
      ],
      "metadata": {
        "id": "dJwOemjBR3V4"
      }
    },
    {
      "cell_type": "markdown",
      "source": [
        "- Splitting data into training and testing sets is a crucial step in machine learning to ensure models generalize well to unseen data. In Python, we typically use train_test_split from Scikit-Learn to divide data efficiently.\n",
        "- Steps:\n",
        "  - Import Necessary Libraries.\n",
        "  - Create Sample Data.\n",
        "  -  Split Data into Training & Testing Sets."
      ],
      "metadata": {
        "id": "zmdRqE12SVtx"
      }
    },
    {
      "cell_type": "markdown",
      "source": [
        "25. ** Explain data encoding?**"
      ],
      "metadata": {
        "id": "G7NqOTEeSWx-"
      }
    },
    {
      "cell_type": "markdown",
      "source": [
        "- Data encoding is the process of transforming categorical data into numerical formats so that machine learning models can process it effectively. Since most ML algorithms work with numerical data, encoding is crucial for handling text-based features."
      ],
      "metadata": {
        "id": "X5h2PphsSmPZ"
      }
    }
  ]
}